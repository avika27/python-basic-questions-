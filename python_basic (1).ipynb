{
  "nbformat": 4,
  "nbformat_minor": 0,
  "metadata": {
    "colab": {
      "provenance": []
    },
    "kernelspec": {
      "name": "python3",
      "display_name": "Python 3"
    },
    "language_info": {
      "name": "python"
    }
  },
  "cells": [
    {
      "cell_type": "code",
      "execution_count": null,
      "metadata": {
        "id": "t6mxQRa5FGPA"
      },
      "outputs": [],
      "source": []
    },
    {
      "cell_type": "markdown",
      "source": [
        "Python Basics Assignment\n"
      ],
      "metadata": {
        "id": "HUWDDLCIFHOc"
      }
    },
    {
      "cell_type": "markdown",
      "source": [
        "Question1.  What is Python, and why is it popular\n",
        "\n",
        "Answer-> Python is a high level programming language which was first developed in 1991 and it is widely used in  fields such as Data science , web development, Artifical intelligence etc.\n",
        "python is popular because :-\n",
        "1. easy to learn\n",
        "2. versatile nature\n",
        "3. Huge active community\n",
        "4. It has lot of libraries\n",
        "5. Also used for Automatation, Database and image processing\n",
        "\n",
        "\n"
      ],
      "metadata": {
        "id": "_PbZtaDoFRTj"
      }
    },
    {
      "cell_type": "markdown",
      "source": [
        "Question2 What is an interpreter in Python ?\n",
        "\n",
        "Answer-> An interpreter translates one line at a time and executes it immediately and it does not create any separate executable file\n",
        "In python ;-\n",
        "1.  an intrepreter first read the source code\n",
        "2. then translate it line by line into intermediate bytecode\n",
        "3. Then finally execute that bytecode using the python virtual machine"
      ],
      "metadata": {
        "id": "x6us3e4jJNbl"
      }
    },
    {
      "cell_type": "markdown",
      "source": [
        "Question3 What are pre-defined keywords in Python?\n",
        "\n",
        "Answer:-pre-defined keywords in python are reserved words that holds the special meaning and have a special purpose  such as if, else, True and False etc and they can not be used as Variable names or identifiers .\n"
      ],
      "metadata": {
        "id": "rE5IDv_aKsCb"
      }
    },
    {
      "cell_type": "markdown",
      "source": [
        "Question4 Can keywords be used as variable names\n",
        "\n",
        "Answer:-No, keywords in Python cannot be used as variable names because they are reserved for special functions and syntax in the language. Using them as variable names will cause errors or unexpected behavior.\n",
        "For example:\n",
        "print = \"blue\"     \n",
        "print(\"yellow\")    \n",
        "In this case, the keyword print has been redefined as a variable, so when we try to use it as a function to display output, it no longer works. Instead, it refers to the string \"blue\".\n",
        "So, to avoid errors and conflict we shouldnt use the keywords as variable names\n",
        "\n",
        "\n"
      ],
      "metadata": {
        "id": "bjwoN-0fK0r7"
      }
    },
    {
      "cell_type": "markdown",
      "source": [
        "Question5 What is mutability in Python ?\n",
        "\n",
        "Answer:-Mutability in Python means where we can able to change their value or modifiy them after they have been created such as Lists , Dictionary etc\n",
        "\n",
        "we can modify them by using methods like insert(),delete() and append() etc\n"
      ],
      "metadata": {
        "id": "53X-MyKgOqAL"
      }
    },
    {
      "cell_type": "markdown",
      "source": [
        "Question6.  Why are lists mutable, but tuples are immutable ?\n",
        "\n",
        "Answer:- Both the Lists and Tuple are the part of data structure where we can store and manipulate the data efficiently . However, the key difference between them lies in their mutability\n",
        "\n",
        "List are mutable because we can easily modify/change them according to the situation by using such methods like:- Insert(), Append(), Remove(). we generaly use list data structure where we are unsure of the elements within the list  and their might be the possiblity of changing them like Storing items in a shopping cart, where items can be added or removed.\n",
        "\n",
        "Tuples are immutable because here we cannot change/modify the elements after the creation of the tuple and we generally use tuple data structure where we dont want to change the elements like assigning employee id , student id , aadhar card number etc\n"
      ],
      "metadata": {
        "id": "97Nsn1fNQiaD"
      }
    },
    {
      "cell_type": "markdown",
      "source": [
        "Question7.What is the difference between “==” and “is” operators in Python?\n",
        "\n",
        "Answer:\"==\" it is the part of comparison operatorcwhere we used to compare two values that they are equal or not. It returns True if the values are the same, otherwise False.\n",
        "ex:1- a = 2\n",
        "      b = 2\n",
        "     print ( a==b)\n",
        "     output :- True\n",
        "\n",
        "\"is\" it is the part of Identity opeartor which is used to compare the location of two variables\n",
        "ex:1- a=7\n",
        "      b=9\n",
        "      print ( a is b )\n",
        "      output :- False\n",
        "\n",
        "so , their both operators used for comparison but \"==\" is used to check that the variables  are equal or not and \"is\" opeartor is used to compare the location of the variables       \n",
        "\n"
      ],
      "metadata": {
        "id": "8Z1gRsKgTT5R"
      }
    },
    {
      "cell_type": "markdown",
      "source": [
        "Question8 What are logical operators in Python?\n",
        "\n",
        "Answer:- Logical Operators are used to check if the statements are True or Not it includes (\"and\" , \"or\") operator  \n",
        "\n",
        " \"and\" operator returns True if both the statements are correct otherwise Returns False if any one or both conditions are False\n",
        "\n",
        " ex:- a=4\n",
        "      b=6\n",
        "      print(a==b) and (a>=b)\n",
        "      output:- False\n",
        "\n",
        "  \"or\" operator True if one of the statments is correct otherwise Returns False only if both conditions are False.\n",
        "  ex:- a=7\n",
        "       b=9\n",
        "       print ( a<=b) or (a==b)\n",
        "       output:- TRUE"
      ],
      "metadata": {
        "id": "8e4QWpR1WGO_"
      }
    },
    {
      "cell_type": "markdown",
      "source": [
        "Question9 What is type casting in Python?\n",
        "\n",
        "Answer:_type casting is the process of changing the data type of an object .\n",
        "we generally use typecasting when the data are in wrong datatypes like ;-\n",
        "a=\"3\" so, here we can see that 3 is a integer  value but it is stored as  a string datatype so in order to fix that we use the concept of typecasting:-\n",
        "\n",
        "example of using the concept of typecasting :_\n",
        "a=\"4\"\n",
        "print(int(a))\n",
        "output:- 4\n",
        "\n",
        "\n",
        "there are two types of typecasting is there:-\n",
        "1. Implicit typecasting\n",
        "2. explicit typecasting\n"
      ],
      "metadata": {
        "id": "inffJmVZbgGP"
      }
    },
    {
      "cell_type": "markdown",
      "source": [
        "Question10  What is the difference between implicit and explicit type casting ?\n",
        "\n",
        "Answer:-Implicit typecasting :- Here, we dont have to tell  python about the datatype of an object python understand this automatically\n",
        "\n",
        "for ex;- a= 5\n",
        "          b=5\n",
        "          c= a+b\n",
        "          print(c)\n",
        "          output:-10\n",
        "\n",
        "so in this program we dont have to tell python that 5 is an integer its understand this automatically\n",
        "\n",
        "Explicit typecasting :_ Here, programmer have to define the data types of an object using functions like int (),str(), float(),bool()etc\n",
        "\n",
        "so the major difference between the both is that in implicit the python automaticallty understands the datatype of an object but in explicit the programmer have to define it"
      ],
      "metadata": {
        "id": "O7D5RQrKdt4V"
      }
    },
    {
      "cell_type": "markdown",
      "source": [
        "Question11  What is the purpose of conditional statements in Python?\n",
        "\n",
        "Answer:-With the help of conditional statements in Python, we can write code that makes decisions based on certain predefined conditions. They control the flow of the program by executing different blocks of code depending on whether a specific condition is true or false.\n",
        "\n",
        "It includes conditional statements like:-\n",
        "\n",
        "1. if\n",
        "2. if-else\n",
        "3. if-elif-else\n"
      ],
      "metadata": {
        "id": "xR3DkGqvPW2h"
      }
    },
    {
      "cell_type": "markdown",
      "source": [
        "Question12 How does the elif statement work?\n",
        "\n",
        "Answer:-The elif statement allows us to check multiple conditions in an if-elif-else control structure. It is used when we want to test more than one condition. Python will check each condition in order, and execute the code under the first condition that is True. If none of the conditions are true, it will execute the else block\n",
        "\n",
        "for example:-\n",
        "x=30\n",
        "if (x>50):\n",
        "print(\"x is bigger than the given number\")\n",
        "elif(x==90):\n",
        "print(\"x is equal to the given number\")\n",
        "elif(x<20):\n",
        "print(\"x is smaller than the given number\")\n",
        "else:\n",
        "print(\" x is neither equal, big or small than the given number\")\n",
        "\n",
        "Explanation:-\n",
        "First, x > 50 is checked — this is False.\n",
        "Then, x == 90 is checked — this is also False.\n",
        "Then, x < 20 is checked — still False.\n",
        "Since none of the conditions are true, the else block is executed."
      ],
      "metadata": {
        "id": "sr8rNIDkRs_H"
      }
    },
    {
      "cell_type": "markdown",
      "source": [
        "Question13 What is the difference between for and while loops?\n",
        "\n",
        "Answer:-We use a for loop when we know in advance how many iterations will take place. A for loop typically includes initialization, condition, and update in a single line.\n",
        "\n",
        "Example of a for loop:\n",
        "l = [1, 3, 3, 4, 5]\n",
        "for i in l:\n",
        "    print(\"hello\")\n",
        "\n",
        "\n",
        "We use a while loop when we do not know how many times the loop will run. It continues executing until the condition becomes false. In a while loop, initialization, condition, and update are written in separate lines.\n",
        "\n",
        "Example of a while loop:\n",
        "i = 7\n",
        "while i < 10:\n",
        "    print(i)\n",
        "    i = i + 1"
      ],
      "metadata": {
        "id": "RSzwZQ3jV86N"
      }
    },
    {
      "cell_type": "markdown",
      "source": [
        "Question14 Describe a scenario where a while loop is more suitable than a for loop\n",
        "\n",
        "Answer:-A while loop is more suitable in situations where the number of iterations is not known in advance, and we want to repeat an action until a specific condition is met.\n",
        "\n",
        "example:\n",
        "username=\"123@123\"\n",
        "user_name=input(\"enter your username\")\n",
        "while username!=user_name:\n",
        "  print ('you wrote the wrong username')\n",
        "  user_name=input(\"enter your username\")\n",
        "\n",
        "\n",
        "print(\"login successful\")\n",
        "\n",
        " so, in this case we choose while loop over for loop because we dont know by how many attempts or iterations will take for writing the correct username\n"
      ],
      "metadata": {
        "id": "_2CL-p9qqIwE"
      }
    },
    {
      "cell_type": "markdown",
      "source": [
        "Practical questions:-\n"
      ],
      "metadata": {
        "id": "AUNDPVwbqR_o"
      }
    },
    {
      "cell_type": "code",
      "source": [
        "#Question1 Write a Python program to print \"Hello, World!\n",
        "print (\"Hello, World!\")"
      ],
      "metadata": {
        "colab": {
          "base_uri": "https://localhost:8080/"
        },
        "id": "t377ReEPq1Zq",
        "outputId": "3f0bbbbc-0fa5-4336-9b44-3c71bf9f857c"
      },
      "execution_count": 2,
      "outputs": [
        {
          "output_type": "stream",
          "name": "stdout",
          "text": [
            "Hello, World!\n"
          ]
        }
      ]
    },
    {
      "cell_type": "code",
      "source": [
        "# Question2 Write a Python program that displays your name and age\n",
        "print(input(\"enter your name\"))\n",
        "print(int(input(\"enter your age\")))"
      ],
      "metadata": {
        "colab": {
          "base_uri": "https://localhost:8080/"
        },
        "id": "YaE6wS-yrXAo",
        "outputId": "a941c840-cee0-41dc-f11e-3f5b5ba12912"
      },
      "execution_count": 4,
      "outputs": [
        {
          "output_type": "stream",
          "name": "stdout",
          "text": [
            "enter your nameavika\n",
            "avika\n",
            "enter your age24\n",
            "24\n"
          ]
        }
      ]
    },
    {
      "cell_type": "code",
      "source": [
        "#Question3  Write code to print all the pre-defined keywords in Python using the keyword library\n",
        "\n",
        "\n",
        "import keyword\n",
        "\n",
        "keywords=keyword.kwlist\n",
        "\n",
        "for kw in keywords:\n",
        "  print (kw)\n",
        "\n"
      ],
      "metadata": {
        "colab": {
          "base_uri": "https://localhost:8080/"
        },
        "id": "AQxZk_Z4w9dR",
        "outputId": "a494e2b4-45c2-4b8d-8b15-22de17892b77"
      },
      "execution_count": 11,
      "outputs": [
        {
          "output_type": "stream",
          "name": "stdout",
          "text": [
            "False\n",
            "None\n",
            "True\n",
            "and\n",
            "as\n",
            "assert\n",
            "async\n",
            "await\n",
            "break\n",
            "class\n",
            "continue\n",
            "def\n",
            "del\n",
            "elif\n",
            "else\n",
            "except\n",
            "finally\n",
            "for\n",
            "from\n",
            "global\n",
            "if\n",
            "import\n",
            "in\n",
            "is\n",
            "lambda\n",
            "nonlocal\n",
            "not\n",
            "or\n",
            "pass\n",
            "raise\n",
            "return\n",
            "try\n",
            "while\n",
            "with\n",
            "yield\n"
          ]
        }
      ]
    },
    {
      "cell_type": "code",
      "source": [
        "#Question4  Write a program that checks if a given word is a Python keyword.\n",
        "\n",
        "import keyword\n",
        "\n",
        "keywords = keyword.kwlist\n",
        "word = input(\"Enter a word: \")\n",
        "\n",
        "if word in keywords:\n",
        "    print(\"The given word is a Python keyword.\")\n",
        "else:\n",
        "    print(\"The given word is not a Python keyword.\")"
      ],
      "metadata": {
        "colab": {
          "base_uri": "https://localhost:8080/"
        },
        "id": "Z4JLlWxKycxQ",
        "outputId": "c20dcf67-7e5f-4a7f-d068-3a41bfdb406a"
      },
      "execution_count": 16,
      "outputs": [
        {
          "output_type": "stream",
          "name": "stdout",
          "text": [
            "Enter a word: for\n",
            "The given word is a Python keyword.\n"
          ]
        }
      ]
    },
    {
      "cell_type": "code",
      "source": [
        "#Question5  Create a list and tuple in Python, and demonstrate how attempting to change an element works differently\n",
        "#for each.\n",
        "\n",
        "list1=[1,2,4,\"apple\",\"green apple\",\"mango\",12.3,45.6]\n",
        "tp1=(3,5,3,7,\"orange\", \"litchi\",\"guava\",12.6,67.3 )\n",
        "#we can able to modify the list as it is mutable\n",
        "list1[2]=5\n",
        "print(list1)\n",
        "# we cant be able to modify the list as it is immutable\n",
        "tp1[2]=4  # This will cause: TypeError: 'tuple' object does not support item assignment\n",
        "print (tp1)\n"
      ],
      "metadata": {
        "colab": {
          "base_uri": "https://localhost:8080/",
          "height": 211
        },
        "id": "58ddEM_Y0p-T",
        "outputId": "7271476f-279a-458c-a894-3759e0d60577"
      },
      "execution_count": 19,
      "outputs": [
        {
          "output_type": "stream",
          "name": "stdout",
          "text": [
            "[1, 2, 5, 'apple', 'green apple', 'mango', 12.3, 45.6]\n"
          ]
        },
        {
          "output_type": "error",
          "ename": "TypeError",
          "evalue": "'tuple' object does not support item assignment",
          "traceback": [
            "\u001b[0;31m---------------------------------------------------------------------------\u001b[0m",
            "\u001b[0;31mTypeError\u001b[0m                                 Traceback (most recent call last)",
            "\u001b[0;32m/tmp/ipython-input-1766931392.py\u001b[0m in \u001b[0;36m<cell line: 0>\u001b[0;34m()\u001b[0m\n\u001b[1;32m      8\u001b[0m \u001b[0mprint\u001b[0m\u001b[0;34m(\u001b[0m\u001b[0mlist1\u001b[0m\u001b[0;34m)\u001b[0m\u001b[0;34m\u001b[0m\u001b[0;34m\u001b[0m\u001b[0m\n\u001b[1;32m      9\u001b[0m \u001b[0;31m# we cant be able to modify the list as it is immutable\u001b[0m\u001b[0;34m\u001b[0m\u001b[0;34m\u001b[0m\u001b[0m\n\u001b[0;32m---> 10\u001b[0;31m \u001b[0mtp1\u001b[0m\u001b[0;34m[\u001b[0m\u001b[0;36m2\u001b[0m\u001b[0;34m]\u001b[0m\u001b[0;34m=\u001b[0m\u001b[0;36m4\u001b[0m  \u001b[0;31m# This will cause: TypeError: 'tuple' object does not support item assignment\u001b[0m\u001b[0;34m\u001b[0m\u001b[0;34m\u001b[0m\u001b[0m\n\u001b[0m\u001b[1;32m     11\u001b[0m \u001b[0mprint\u001b[0m \u001b[0;34m(\u001b[0m\u001b[0mtp1\u001b[0m\u001b[0;34m)\u001b[0m\u001b[0;34m\u001b[0m\u001b[0;34m\u001b[0m\u001b[0m\n",
            "\u001b[0;31mTypeError\u001b[0m: 'tuple' object does not support item assignment"
          ]
        }
      ]
    },
    {
      "cell_type": "code",
      "source": [
        "#Question6  Write a function to demonstrate the behavior of mutable and immutable arguments\n",
        "\n",
        "def change_values(a, b):\n",
        "    a = a + 5         # This won't affect the original value of 'x' (immutable)\n",
        "    b.append(100)     # This will change the original list 'y' (mutable)\n",
        "    print(\"Inside function:\")\n",
        "    print(\"a =\", a)\n",
        "    print(\"b =\", b)\n",
        "\n",
        "# Immutable\n",
        "x = 10\n",
        "\n",
        "# Mutable\n",
        "y = [1, 2, 3]\n",
        "\n",
        "print(\"Before function call:\")\n",
        "print(\"x =\", x)\n",
        "print(\"y =\", y)\n",
        "\n",
        "change_values(x, y)\n",
        "print(\"After function call:\")\n",
        "print(\"x =\", x)  # Unchanged\n",
        "print(\"y =\", y)  # Changed"
      ],
      "metadata": {
        "id": "nr-nNUVn5LEV"
      },
      "execution_count": null,
      "outputs": []
    },
    {
      "cell_type": "code",
      "source": [
        "#Question7  Write a program that performs basic arithmetic operations on two user-input numbers.\n",
        "\n",
        "num1 = int(input(\"enter your first number\"))\n",
        "num2 = int (input(\"enter your second number \"))\n",
        "print (num1,num2)\n",
        "print(\"the sum of num1 and num2 is\",num1+num2)\n",
        "print(\"the difference of num1 and num2 is\",num1-num2)\n",
        "print(\"the product of num1 and num2 is\",num1*num2)\n",
        "print(\"the quotient of num1 and num2 is\",num1/num2)\n"
      ],
      "metadata": {
        "colab": {
          "base_uri": "https://localhost:8080/"
        },
        "id": "lklW4WBU57PI",
        "outputId": "f0bcbef9-114a-4a95-96ce-4f223472c3f8"
      },
      "execution_count": 21,
      "outputs": [
        {
          "output_type": "stream",
          "name": "stdout",
          "text": [
            "enter your first number12\n",
            "enter your second number 34\n",
            "12 34\n",
            "the sum of num1 and num2 is 46\n",
            "the difference of num1 and num2 is -22\n",
            "the product of num1 and num2 is 408\n",
            "the quotient of num1 and num2 is 0.35294117647058826\n"
          ]
        }
      ]
    },
    {
      "cell_type": "code",
      "source": [
        "#Question8 Write a program to demonstrate the use of logical operators.\n",
        "\n",
        "a = int(input(\"enter your first number\"))\n",
        "b= int(input(\"enter your second number\"))\n",
        "print (a ,b)\n",
        "print ( (a==b)and (a>b))\n",
        "print ((a<b)or (a==b))\n",
        "print((a>b) and (a<=b))"
      ],
      "metadata": {
        "colab": {
          "base_uri": "https://localhost:8080/"
        },
        "id": "UrNQN2Ke7Ewv",
        "outputId": "341da8f2-72fc-4ed4-fb02-609970851267"
      },
      "execution_count": 23,
      "outputs": [
        {
          "output_type": "stream",
          "name": "stdout",
          "text": [
            "enter your first number45\n",
            "enter your second number67\n",
            "45 67\n",
            "False\n",
            "True\n",
            "False\n"
          ]
        }
      ]
    },
    {
      "cell_type": "code",
      "source": [
        "#Question9  Write a Python program to convert user input from string to integer, float, and boolean types.\n",
        "\n",
        "user_input=input(\"enter your favourite number\")\n",
        "user_int=int(user_input)\n",
        "user_float=float(user_input)\n",
        "user_bool=bool(user_input)\n",
        "print(user_int)\n",
        "print(user_float)\n",
        "print(user_bool)"
      ],
      "metadata": {
        "colab": {
          "base_uri": "https://localhost:8080/"
        },
        "id": "7fzQ9cEi7-ee",
        "outputId": "9c56922f-ee1f-4831-e9a5-e15e0209952d"
      },
      "execution_count": 24,
      "outputs": [
        {
          "output_type": "stream",
          "name": "stdout",
          "text": [
            "enter your favourite number23\n",
            "23\n",
            "23.0\n",
            "True\n"
          ]
        }
      ]
    },
    {
      "cell_type": "code",
      "source": [
        "#Question10  Write code to demonstrate type casting with list elements.\n",
        "\n",
        "list1 = [1, 2, 4, 13, 13.5, 67.9]\n",
        "\n",
        "str_value = str(list1[4])\n",
        "print(\"Value at index 4 as string:\", str_value)\n",
        "print(\"Type:\", type(str_value))\n",
        "\n",
        "bool_value = bool(list1[5])\n",
        "print(\"Value at index 5 as boolean:\", bool_value)\n",
        "print(\"Type:\", type(bool_value))\n",
        "\n",
        "\n",
        "print(\"Original type of list1[4]:\", type(list1[4]))\n",
        "print(\"Original type of list1[5]:\", type(list1[5]))"
      ],
      "metadata": {
        "colab": {
          "base_uri": "https://localhost:8080/"
        },
        "id": "ZlxLygJW8vpZ",
        "outputId": "f01a7374-eeb3-4eea-91aa-d36972741caf"
      },
      "execution_count": 26,
      "outputs": [
        {
          "output_type": "stream",
          "name": "stdout",
          "text": [
            "Value at index 4 as string: 13.5\n",
            "Type: <class 'str'>\n",
            "Value at index 5 as boolean: True\n",
            "Type: <class 'bool'>\n",
            "Original type of list1[4]: <class 'float'>\n",
            "Original type of list1[5]: <class 'float'>\n"
          ]
        }
      ]
    },
    {
      "cell_type": "code",
      "source": [
        "#Question 11 Write a program that checks if a number is positive, negative, or zero.\n",
        "\n",
        "user_number= int(input (\"enter your number\"))\n",
        "if (user_number>0):\n",
        "  print (\"the user_number is positive number\")\n",
        "elif (user_number<0):\n",
        "    print (\"the user_number is negative number\")\n",
        "else:\n",
        "      print (\"the user_number is zero\")"
      ],
      "metadata": {
        "colab": {
          "base_uri": "https://localhost:8080/"
        },
        "id": "-2pj-yuV-Wc1",
        "outputId": "88c02411-746c-4bcd-c150-741ce24be710"
      },
      "execution_count": 30,
      "outputs": [
        {
          "output_type": "stream",
          "name": "stdout",
          "text": [
            "enter your number9\n",
            "the user_number is positive number\n"
          ]
        }
      ]
    },
    {
      "cell_type": "code",
      "source": [
        "#Question 12  Write a for loop to print numbers from 1 to 10.\n",
        "\n",
        "for i in range (1,11):\n",
        " print (i)\n"
      ],
      "metadata": {
        "colab": {
          "base_uri": "https://localhost:8080/"
        },
        "id": "GQ1A19bc_KPy",
        "outputId": "51ed42bf-7c86-43c1-d57b-23cec48a7153"
      },
      "execution_count": 33,
      "outputs": [
        {
          "output_type": "stream",
          "name": "stdout",
          "text": [
            "1\n",
            "2\n",
            "3\n",
            "4\n",
            "5\n",
            "6\n",
            "7\n",
            "8\n",
            "9\n",
            "10\n"
          ]
        }
      ]
    },
    {
      "cell_type": "code",
      "source": [
        "#Question 13 Write a Python program to find the sum of all even numbers between 1 and 50.\n",
        "i = 1\n",
        "total = 0\n",
        "while i <= 50:\n",
        "    if i % 2 == 0:\n",
        "        total += i\n",
        "    i += 1\n",
        "\n",
        "print(\"Sum of even numbers between 1 and 50 is:\", total)\n",
        "\n",
        ""
      ],
      "metadata": {
        "colab": {
          "base_uri": "https://localhost:8080/"
        },
        "id": "8n0VgpGsAXcj",
        "outputId": "63314b7e-6273-4aff-8f16-a791e88abe9d"
      },
      "execution_count": 35,
      "outputs": [
        {
          "output_type": "stream",
          "name": "stdout",
          "text": [
            "Sum of even numbers between 1 and 50 is: 650\n"
          ]
        }
      ]
    },
    {
      "cell_type": "code",
      "source": [
        "#Question14 14. Write a program to reverse a string using a while loop.\n",
        "\n",
        "str1=\"hello world\"\n",
        "str1 = \"hello world\"\n",
        "i = -1\n",
        "\n",
        "while abs(i) <= len(str1):\n",
        "    print(str1[i], end='')\n",
        "    i -= 1"
      ],
      "metadata": {
        "colab": {
          "base_uri": "https://localhost:8080/"
        },
        "id": "i7ppIJlPB68O",
        "outputId": "c3d53ecd-2ff7-417a-c485-4655cf99621f"
      },
      "execution_count": 40,
      "outputs": [
        {
          "output_type": "stream",
          "name": "stdout",
          "text": [
            "dlrow olleh"
          ]
        }
      ]
    },
    {
      "cell_type": "code",
      "source": [
        "#Question 15 Write a Python program to calculate the factorial of a number provided by the user using a while loop.\n",
        "\n",
        "user_number = int(input(\"Enter your number: \"))\n",
        "\n",
        "factorial = 1\n",
        "i = 1\n",
        "if user_number < 0:\n",
        "    print(\"Factorial is not defined for negative numbers.\")\n",
        "elif user_number == 0:\n",
        "    print(\"Factorial of 0 is 1.\")\n",
        "else:\n",
        "    while i <= user_number:\n",
        "        factorial *= i\n",
        "        i += 1\n",
        "    print(f\"Factorial of {user_number} is {factorial}.\")\n",
        "\n",
        "\n"
      ],
      "metadata": {
        "id": "uxJsyx3pCRvv"
      },
      "execution_count": null,
      "outputs": []
    }
  ]
}