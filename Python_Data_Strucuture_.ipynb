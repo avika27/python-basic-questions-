{
  "nbformat": 4,
  "nbformat_minor": 0,
  "metadata": {
    "colab": {
      "provenance": []
    },
    "kernelspec": {
      "name": "python3",
      "display_name": "Python 3"
    },
    "language_info": {
      "name": "python"
    }
  },
  "cells": [
    {
      "cell_type": "markdown",
      "source": [
        "#Python Datatypes and Structures assignment"
      ],
      "metadata": {
        "id": "GF-NHz71aUZ3"
      }
    },
    {
      "cell_type": "markdown",
      "source": [
        "Question 1:- What are data structures, and why are they important?\n",
        "\n",
        "Answer:- A data structure is a way of organizing, managing, and storing data so that it can be accessed and modified efficiently. Common examples include Lists, Tuples, Sets, and Dictionaries.\n",
        "\n",
        "Importance of Data Structures:\n",
        "1.They allow data to be stored and accessed efficiently.\n",
        "2.They help in performing operations like searching, sorting, inserting, and deleting data quickly.\n",
        "3.They make programs more organized and easier to manage.\n",
        "4.They improve the performance and scalability of software applications."
      ],
      "metadata": {
        "id": "sr_aXSfaaeDi"
      }
    },
    {
      "cell_type": "markdown",
      "source": [
        "Question 2:-  Explain the difference between mutable and immutable data types with examples?\n",
        "\n",
        "Answer:- The major difference between mutable and immutable data types is that mutable data types can be changed after creation, while immutable data types cannot be modified once created.\n",
        "\n",
        "Mutable data types: We can add, remove, or update elements after they are created.\n",
        "Examples: List, Dictionary, Set\n",
        "\n",
        "Immutable data types: We cannot modify their contents once they are created.\n",
        "Examples: Tuple, String, Frozen Set\n",
        "\n",
        "example:- l1=[1,32,34,56]\n",
        "          tp1=(45,2,22,76)\n",
        "\n",
        "          l1.append(9)\n",
        "          \n",
        "          so this line will simply add the element in the end\n",
        "\n",
        "          tp.append(10)\n",
        "          this line will throw an error because tuple is an immutable object so because of this we cant perform any modifications after they have created\n",
        "\n",
        "  The other major difference is that immutable data types have fxed hash values which mutable data types dont have    \n",
        "\n"
      ],
      "metadata": {
        "id": "zkA9Dlpuaf9k"
      }
    },
    {
      "cell_type": "markdown",
      "source": [
        "Question 3:- What are the main differences between lists and tuples in Python?\n",
        "\n",
        "Answer:- The main difference between lists and tuples is that lists are mutable, while tuples are immutable.\n",
        "This means we can modify, add, or remove elements in a list after it is created, but we cannot change the elements of a tuple once it is created.\n",
        "\n",
        "the other main difference is that list is slower and takes more memory usage than tuple . and list is represented using square brackets [] and tuple is represented using paranthesis ().\n",
        "\n",
        "\n"
      ],
      "metadata": {
        "id": "MZVlXQBAc6_Z"
      }
    },
    {
      "cell_type": "markdown",
      "source": [
        "Question 4:- Describe how dictionaries store data\n",
        "\n",
        "Answer:- Dictionary are unordered data type that stores the data in key value pairs and it is represented using curly brackets{}\n",
        "\n",
        "When a dictionary is created, each key acts as a unique identifier that points to a specific value.\n",
        "Unlike lists that use indexes to access elements, dictionaries use keys to access their corresponding values."
      ],
      "metadata": {
        "id": "dmwpUTysen9c"
      }
    },
    {
      "cell_type": "markdown",
      "source": [
        "Question 5 :- Why might you use a set instead of a list in Python?\n",
        "\n",
        "Answer:- Sets are unordered and unique collection of elements . we use sets instead of list we want to avoid duplicate value and want to perform some set based mathematical expression like union , intersection etc ."
      ],
      "metadata": {
        "id": "o8GtFrvmf4b_"
      }
    },
    {
      "cell_type": "markdown",
      "source": [
        "Question 6 :- What is a string in Python, and how is it different from a list?\n",
        "\n",
        "Answer:- String is a sequence  of character which is used to represent and manipulate the textual data . It is written inside single (' ') or double (\" \") quotes.\n",
        "\n",
        "String is an immutable data type so  because of this we can't modify any elements whereas list is an mutable data type here we can modify the elements using function like append , remove and update"
      ],
      "metadata": {
        "id": "vlxfwLFHhIxM"
      }
    },
    {
      "cell_type": "markdown",
      "source": [
        "Question 7 :- How do tuples ensure data integrity in Python?\n",
        "\n",
        "Answer:- Tuples ensure data integrity because they are immutable, meaning their elements cannot be changed, added, or removed after creation.\n",
        "This immutability prevents accidental modifications of data, ensuring that the stored information remains constant and secure throughout the program.\n",
        "\n",
        "Example:\n",
        "\n",
        "data = (10, 20, 30)\n",
        "data[1] = 50  \n",
        "So this line will throw an error as tuple is an immutable data type and we can't do that\n",
        "\n",
        "\n",
        "Hence, tuples are often used when we want to protect data from being modified accidentally."
      ],
      "metadata": {
        "id": "9PfC4-UeiUWN"
      }
    },
    {
      "cell_type": "markdown",
      "source": [
        "Question 8 :- What is a hash table, and how does it relate to dictionaries in Python?\n",
        "\n",
        "Answer:- A hash table is a data structure that stores data in key–value pairs. It uses a hash function to convert each key into a unique index where its value is stored. This allows fast data access, insertion, and deletion.\n",
        "\n",
        "In Python, a dictionary is implemented using a hash table.\n",
        "Each key in a dictionary is hashed to find the location of its corresponding value in memory, making lookups very efficient."
      ],
      "metadata": {
        "id": "bed8FWKqi5qo"
      }
    },
    {
      "cell_type": "markdown",
      "source": [
        "Question 9 :- Can lists contain different data types in Python?\n",
        "\n",
        "Answer:- Yes, list is heterogenous which means a list can contain elements which can be any data type .\n",
        "\n",
        "example :- l2=[34,\"avi\",True, 43.5]\n",
        "\n",
        "So, lists can store a mixture of multiple data types together."
      ],
      "metadata": {
        "id": "_QGpXQ4YkLq9"
      }
    },
    {
      "cell_type": "markdown",
      "source": [
        "Question 10 :-  Explain why strings are immutable in PythonP\n",
        "\n",
        "Answer:-trings in Python are immutable, which means their contents cannot be changed after creation.\n",
        "This immutability is designed for security, efficiency, and reliability — since strings are used frequently (like in keys, messages, and identifiers), making them unchangeable\n",
        "\n",
        "Example:- text = \"hello\"\n",
        "text[0] = 'H'   \n",
        "\n",
        "so this line will throw an error as string is immutable so we can't modify it after they have created ."
      ],
      "metadata": {
        "id": "dLfByRO-lJF9"
      }
    },
    {
      "cell_type": "markdown",
      "source": [
        "Question 11:- What advantages do dictionaries offer over lists for certain tasks?\n",
        "\n",
        "Answer:- The advantage of  dictionary over list is faster performance and we can easily delete , add and update the elements in dictionary than lists ."
      ],
      "metadata": {
        "id": "nKHRDW1-lz_k"
      }
    },
    {
      "cell_type": "markdown",
      "source": [
        "Question 12:- Describe a scenario where using a tuple would be preferable over a list.\n",
        "\n",
        "Answer :- we  use tuple over list when are so sure about the elements and we dont want any modifications to be happen another reason would be when we  want faster performance and lower memory usage then also we prefer tuple over lists ."
      ],
      "metadata": {
        "id": "uFGn0tdzqDW4"
      }
    },
    {
      "cell_type": "markdown",
      "source": [
        "Question 13:- How do sets handle duplicate values in Python?\n",
        "\n",
        "Answer:- Sets are unordered and unique collection of elements . so we put any duplicate value then set will simply remove the duplicated value and returns only the unique  one .\n",
        "\n",
        "Example:- S1={1,2,1,2,3,4}\n",
        "output:- { 1,2,3,4}\n",
        "\n",
        "so , just like this example set has removed the duplicate value and  only returns the unique ones ."
      ],
      "metadata": {
        "id": "yqqumjqpqsc0"
      }
    },
    {
      "cell_type": "markdown",
      "source": [
        "Question 14:- How does the “in” keyword work differently for lists and dictionaries?\n",
        "\n",
        "Answer:- \"in\" keyword in list is used to check the value exist in the particular list or not .\n",
        "\n",
        "example :- ls1=[1,2,3,4,5]\n",
        "print(1 in ls1)\n",
        "\n",
        "\n",
        "the \"in\" keyword in dictionary is used to check whether the key exists in the dictionary or not . It does not check for values in dictionary only for keys only\n",
        "\n",
        "example:- student = {\"name\": \"Avika\", \"age\": 21}\n",
        "print(\"name\" in student)"
      ],
      "metadata": {
        "id": "Uj_DOoBgrxbi"
      }
    },
    {
      "cell_type": "markdown",
      "source": [
        "Question 15:- Can you modify the elements of a tuple? Explain why or why not.\n",
        "\n",
        "Answer:- No, we can not modify the elements of a tuple as because tuple is an immutable data type so we can not perform any changes in the tuple after they have been created\n",
        "\n",
        "example:- t = (1, 2, 3)\n",
        "t[0] = 10\n",
        "\n",
        "so , this line will simply throw an error because we are trying to change the value for a tuple"
      ],
      "metadata": {
        "id": "RNtNYq19tPgJ"
      }
    },
    {
      "cell_type": "markdown",
      "source": [
        "Question 16:- What is a nested dictionary, and give an example of its use case?\n",
        "\n",
        "Answer:- A nested dictionary is a dictionary that contains another dictionary (or dictionaries) as its values.\n",
        "\n",
        "example:-\n",
        "  d1 = {\n",
        "    \"student1\": {\"name\": \"Avika\", \"city\": \"Delhi\", \"age\": 21},\n",
        "    \"student2\": {\"name\": \"Rohan\", \"city\": \"Shimla\", \"age\": 22}\n",
        "}\n",
        "\n",
        "\n",
        "Use case:-\n",
        "Nested dictionaries are commonly used to store complex data, such as student records, employee details, or JSON-like data structures."
      ],
      "metadata": {
        "id": "ebwm1tWWt_Zw"
      }
    },
    {
      "cell_type": "markdown",
      "source": [
        "Question 17 :-  Describe the time complexity of accessing elements in a dictionary\n",
        "\n",
        "Answer:- dictionaries are implemented using hash tables, which allows fast access to values using their keys.\n",
        "\n",
        "Average-case time complexity: O(1) (constant time) — Accessing a value by key is very fast, regardless of the dictionary size.\n",
        "\n",
        "Worst-case time complexity: O(n) — This occurs rarely, in case of many hash collisions where multiple keys map to the same location."
      ],
      "metadata": {
        "id": "9qW11NpRvieC"
      }
    },
    {
      "cell_type": "markdown",
      "source": [
        "Question 18:- In what situations are lists preferred over dictionaries?\n",
        "\n",
        "Answer:- Lists are preferred over dictionaries when we want ordered data that can be accessed using indexes.\n",
        "Lists are also a good choice when we want to iterate through elements in order, such as in loops."
      ],
      "metadata": {
        "id": "yjPakR_gwIGt"
      }
    },
    {
      "cell_type": "markdown",
      "source": [
        "Question 19 :- Why are dictionaries considered unordered, and how does that affect data retrieval?\n",
        "\n",
        "Answer:-Dictionaries in Python are considered unordered because the elements (key–value pairs) are not stored in a sequential order. Instead, they are stored in hash table slots determined by the keys’ hash values.\n",
        "\n",
        "Data retrieval is done using keys, not positions or indexes, which allows fast access but not sequential access by order."
      ],
      "metadata": {
        "id": "WaWgnwuSw8dc"
      }
    },
    {
      "cell_type": "markdown",
      "source": [
        "Question 20 :-  Explain the difference between a list and a dictionary in terms of data retrieval.\n",
        "\n",
        "Answer:-List: Elements are retrieved by their index, and searching for a specific value requires scanning the list, which takes O(n) time in the worst case.\n",
        "\n",
        "example:- lst = [10, 20, 30]\n",
        "print(lst[1])\n",
        "\n",
        "Dictionary: Elements are retrieved by their keys, allowing direct access in O(1) average time using a hash table.\n",
        "\n",
        "example:-student = {\"name\": \"Avika\", \"age\": 21}\n",
        "print(student[\"name\"])"
      ],
      "metadata": {
        "id": "5cL0RFLsxTmM"
      }
    },
    {
      "cell_type": "markdown",
      "source": [
        "#Practical Questions"
      ],
      "metadata": {
        "id": "i4bN9X42xqJY"
      }
    },
    {
      "cell_type": "code",
      "source": [
        "# Question 1:- Write a code to create a string with your name and print it\n",
        "\n",
        "str1=\"Hi my name is Avika\"\n",
        "print(str1)"
      ],
      "metadata": {
        "colab": {
          "base_uri": "https://localhost:8080/"
        },
        "id": "mSkmNZbOxvtA",
        "outputId": "5bd8928a-1692-48cf-8797-3efbb6073e0b"
      },
      "execution_count": null,
      "outputs": [
        {
          "output_type": "stream",
          "name": "stdout",
          "text": [
            "Hi my name is Avika\n"
          ]
        }
      ]
    },
    {
      "cell_type": "code",
      "source": [
        "#Question 2 :-Write a code to find the length of the string \"Hello World\".\n",
        "\n",
        "str2=\"Hello World\"\n",
        "print(len(str2))"
      ],
      "metadata": {
        "colab": {
          "base_uri": "https://localhost:8080/"
        },
        "id": "VT7cIaUqyAfQ",
        "outputId": "78c6c410-4316-4744-e79e-5b9d948e25cf"
      },
      "execution_count": null,
      "outputs": [
        {
          "output_type": "stream",
          "name": "stdout",
          "text": [
            "11\n"
          ]
        }
      ]
    },
    {
      "cell_type": "code",
      "source": [
        "#Question 3:-  Write a code to slice the first 3 characters from the string \"Python Programming\"\n",
        "\n",
        "str3= \"Python Programming\"\n",
        "print(str3[3:])"
      ],
      "metadata": {
        "colab": {
          "base_uri": "https://localhost:8080/"
        },
        "id": "tKKl2ekZyPdJ",
        "outputId": "1a8e178f-88c1-4071-bc09-ff9839fcf819"
      },
      "execution_count": null,
      "outputs": [
        {
          "output_type": "stream",
          "name": "stdout",
          "text": [
            "hon Programming\n"
          ]
        }
      ]
    },
    {
      "cell_type": "code",
      "source": [
        "# Question 4 :-Write a code to convert the string \"hello\" to uppercase\n",
        "\n",
        "str4=\"hello\"\n",
        "print(str4.upper())"
      ],
      "metadata": {
        "colab": {
          "base_uri": "https://localhost:8080/"
        },
        "id": "m_9SchGwy0Ao",
        "outputId": "889684c9-2b65-48ab-9a0d-d96d5001334a"
      },
      "execution_count": null,
      "outputs": [
        {
          "output_type": "stream",
          "name": "stdout",
          "text": [
            "HELLO\n"
          ]
        }
      ]
    },
    {
      "cell_type": "code",
      "source": [
        "#Question 5:- Write a code to replace the word \"apple\" with \"orange\" in the string \"I like apple\"\n",
        "\n",
        "str5=\"I like apple\"\n",
        "print(str5.replace(\"apple\",\"orange\"))"
      ],
      "metadata": {
        "colab": {
          "base_uri": "https://localhost:8080/"
        },
        "id": "MJvs2j9uzBMO",
        "outputId": "b40a35a4-1953-4da0-9b74-e296d7ac6d27"
      },
      "execution_count": null,
      "outputs": [
        {
          "output_type": "stream",
          "name": "stdout",
          "text": [
            "I like orange\n"
          ]
        }
      ]
    },
    {
      "cell_type": "code",
      "source": [
        "#Question 6 :-Write a code to create a list with numbers 1 to 5 and print it\n",
        "\n",
        "lst1=[1,2,3,4,5]\n",
        "print(lst1)"
      ],
      "metadata": {
        "colab": {
          "base_uri": "https://localhost:8080/"
        },
        "id": "9FnmG7NxzT4l",
        "outputId": "067d0eb7-9f10-4ec7-8d6d-8bc383a560ee"
      },
      "execution_count": null,
      "outputs": [
        {
          "output_type": "stream",
          "name": "stdout",
          "text": [
            "[1, 2, 3, 4, 5]\n"
          ]
        }
      ]
    },
    {
      "cell_type": "code",
      "source": [
        "# Question 7 :- Write a code to append the number 10 to the list [1, 2, 3, 4]\n",
        "\n",
        "lst2=[1,2,3,4]\n",
        "lst2.append(10)\n",
        "print(lst2)"
      ],
      "metadata": {
        "colab": {
          "base_uri": "https://localhost:8080/"
        },
        "id": "d3v6E03zzowe",
        "outputId": "47aaa21b-88db-4eab-d535-404d0b47022e"
      },
      "execution_count": null,
      "outputs": [
        {
          "output_type": "stream",
          "name": "stdout",
          "text": [
            "[1, 2, 3, 4, 10]\n"
          ]
        }
      ]
    },
    {
      "cell_type": "code",
      "source": [
        "#Question 8 :- Write a code to remove the number 3 from the list [1, 2, 3, 4, 5]\n",
        "\n",
        "lst3=[1,2,3,4,5]\n",
        "lst3.remove(3)\n",
        "print(lst3)"
      ],
      "metadata": {
        "colab": {
          "base_uri": "https://localhost:8080/"
        },
        "id": "DGKKZx4E0J0v",
        "outputId": "54a09796-aebb-4f97-8282-87faecf457ee"
      },
      "execution_count": null,
      "outputs": [
        {
          "output_type": "stream",
          "name": "stdout",
          "text": [
            "[1, 2, 4, 5]\n"
          ]
        }
      ]
    },
    {
      "cell_type": "code",
      "source": [
        "#Question 9:- Write a code to access the second element in the list ['a', 'b', 'c', 'd']\n",
        "\n",
        "lst4=['a', 'b', 'c', 'd']\n",
        "print(lst4[2])"
      ],
      "metadata": {
        "colab": {
          "base_uri": "https://localhost:8080/"
        },
        "id": "BOx1rFxN0UgT",
        "outputId": "1b9bc808-b2fa-46c0-9d06-932db58017ff"
      },
      "execution_count": null,
      "outputs": [
        {
          "output_type": "stream",
          "name": "stdout",
          "text": [
            "c\n"
          ]
        }
      ]
    },
    {
      "cell_type": "code",
      "source": [
        "#Question 10 :- Write a code to reverse the list [10, 20, 30, 40, 50].\n",
        "\n",
        "lst5=[10,20,30,40,50]\n",
        "print(lst5[::-1])"
      ],
      "metadata": {
        "colab": {
          "base_uri": "https://localhost:8080/"
        },
        "id": "5he0DEmo0jGg",
        "outputId": "a2f8f52e-7f8f-4658-ea9e-777bd3ff1043"
      },
      "execution_count": null,
      "outputs": [
        {
          "output_type": "stream",
          "name": "stdout",
          "text": [
            "[50, 40, 30, 20, 10]\n"
          ]
        }
      ]
    },
    {
      "cell_type": "code",
      "source": [
        "#Question 11:- Write a code to create a tuple with the elements 100, 200, 300 and print it.\n",
        "\n",
        "tp1=(100,200,300)\n",
        "print(tp1)"
      ],
      "metadata": {
        "colab": {
          "base_uri": "https://localhost:8080/"
        },
        "id": "5tWvTBPN01fL",
        "outputId": "af75c9f4-726e-480a-a085-d19641cd58fc"
      },
      "execution_count": null,
      "outputs": [
        {
          "output_type": "stream",
          "name": "stdout",
          "text": [
            "(100, 200, 300)\n"
          ]
        }
      ]
    },
    {
      "cell_type": "code",
      "source": [
        "#Question 12:- Write a code to access the second-to-last element of the tuple ('red', 'green', 'blue', 'yellow').\n",
        "\n",
        "tp2=('red', 'green', 'blue', 'yellow')\n",
        "print(tp2[2])"
      ],
      "metadata": {
        "colab": {
          "base_uri": "https://localhost:8080/"
        },
        "id": "1NNHmZ6t1BLM",
        "outputId": "3e0614cf-dfa1-479f-f32b-c865a14b2bd4"
      },
      "execution_count": null,
      "outputs": [
        {
          "output_type": "stream",
          "name": "stdout",
          "text": [
            "blue\n"
          ]
        }
      ]
    },
    {
      "cell_type": "code",
      "source": [
        "#Question 13:-Write a code to find the minimum number in the tuple (10, 20, 5, 15).\n",
        "\n",
        "tp3=(10,20,5,15)\n",
        "print(min(tp3))"
      ],
      "metadata": {
        "colab": {
          "base_uri": "https://localhost:8080/"
        },
        "id": "RHJkvhkN1OzE",
        "outputId": "074f9d36-ec71-4359-8765-407b6b5d3faf"
      },
      "execution_count": null,
      "outputs": [
        {
          "output_type": "stream",
          "name": "stdout",
          "text": [
            "5\n"
          ]
        }
      ]
    },
    {
      "cell_type": "code",
      "source": [
        "#Question 14:- Write a code to find the index of the element \"cat\" in the tuple ('dog', 'cat', 'rabbit').\n",
        "\n",
        "tp4=('dog', 'cat', 'rabbit')\n",
        "print(tp4.index(\"cat\"))"
      ],
      "metadata": {
        "colab": {
          "base_uri": "https://localhost:8080/"
        },
        "id": "BtXk5Jik1Zn6",
        "outputId": "d53418ca-ee30-4f9e-ec62-72197e0dc596"
      },
      "execution_count": null,
      "outputs": [
        {
          "output_type": "stream",
          "name": "stdout",
          "text": [
            "1\n"
          ]
        }
      ]
    },
    {
      "cell_type": "code",
      "source": [
        "#Question 15  :- Write a code to create a tuple containing three different fruits and check if \"kiwi\" is in it\n",
        "\n",
        "tp5=(\"apple\",\"mango\",\"kiwi\")\n",
        "print(\"kiwi\" in tp5)"
      ],
      "metadata": {
        "colab": {
          "base_uri": "https://localhost:8080/"
        },
        "id": "dkDfg42Q1l01",
        "outputId": "f90cd280-5f6c-4d51-dd9b-a0321cf33fe4"
      },
      "execution_count": null,
      "outputs": [
        {
          "output_type": "stream",
          "name": "stdout",
          "text": [
            "True\n"
          ]
        }
      ]
    },
    {
      "cell_type": "code",
      "source": [
        "#Question 16:-  Write a code to create a set with the elements 'a', 'b', 'c' and print it\n",
        "\n",
        "st1={'a','b','c'}\n",
        "print(st1)"
      ],
      "metadata": {
        "colab": {
          "base_uri": "https://localhost:8080/"
        },
        "id": "_-d09TAE134E",
        "outputId": "24c98656-47b9-49ec-9955-7b75a2689489"
      },
      "execution_count": null,
      "outputs": [
        {
          "output_type": "stream",
          "name": "stdout",
          "text": [
            "{'b', 'c', 'a'}\n"
          ]
        }
      ]
    },
    {
      "cell_type": "code",
      "source": [
        "#Question 17:- Write a code to clear all elements from the set {1, 2, 3, 4, 5}.\n",
        "\n",
        "st2= {1, 2, 3, 4, 5}\n",
        "st2.clear()\n",
        "print(st2)"
      ],
      "metadata": {
        "colab": {
          "base_uri": "https://localhost:8080/"
        },
        "id": "jyoVeHcC2JuR",
        "outputId": "779d1832-bbfa-4449-f3b5-e95a38869586"
      },
      "execution_count": null,
      "outputs": [
        {
          "output_type": "stream",
          "name": "stdout",
          "text": [
            "set()\n"
          ]
        }
      ]
    },
    {
      "cell_type": "code",
      "source": [
        "#Question 18 :-Write a code to remove the element 4 from the set {1, 2, 3, 4}.\n",
        "\n",
        "st3= {1, 2, 3, 4}\n",
        "st3.remove(4)\n",
        "print(st3)"
      ],
      "metadata": {
        "id": "yFsOdXZg2dkA"
      },
      "execution_count": null,
      "outputs": []
    },
    {
      "cell_type": "code",
      "source": [
        "#Question 19:-  Write a code to find the union of two sets {1, 2, 3} and {3, 4, 5}.\n",
        "\n",
        "st4={1,2,3}\n",
        "st5={3,4,5}\n",
        "print(st4|st5)"
      ],
      "metadata": {
        "colab": {
          "base_uri": "https://localhost:8080/"
        },
        "id": "gBXQN7tc2mpQ",
        "outputId": "ff9727a7-ee8c-4f4b-858a-44db5641f2ed"
      },
      "execution_count": null,
      "outputs": [
        {
          "output_type": "stream",
          "name": "stdout",
          "text": [
            "{1, 2, 3, 4, 5}\n"
          ]
        }
      ]
    },
    {
      "cell_type": "code",
      "source": [
        "#Question 20:- Write a code to find the intersection of two sets {1, 2, 3} and {2, 3, 4}.\n",
        "\n",
        "st6={1,2,3}\n",
        "st7={2,3,4}\n",
        "print(st6&st7)"
      ],
      "metadata": {
        "colab": {
          "base_uri": "https://localhost:8080/"
        },
        "id": "x24PBXRz3DCH",
        "outputId": "92a7c6ad-debe-416d-c547-6709c7874493"
      },
      "execution_count": null,
      "outputs": [
        {
          "output_type": "stream",
          "name": "stdout",
          "text": [
            "{2, 3}\n"
          ]
        }
      ]
    },
    {
      "cell_type": "code",
      "source": [
        "#Question 21:- Write a code to create a dictionary with the keys \"name\", \"age\", and \"city\", and print it.\n",
        "\n",
        "d1={\"name\":\"Avika\",\"age\":21,\"city\":\"Delhi\"}\n",
        "print(d1)"
      ],
      "metadata": {
        "colab": {
          "base_uri": "https://localhost:8080/"
        },
        "id": "0-Z_UktT3cwf",
        "outputId": "07c290bb-c4c7-443d-a6e3-438f9b72c91f"
      },
      "execution_count": null,
      "outputs": [
        {
          "output_type": "stream",
          "name": "stdout",
          "text": [
            "{'name': 'Avika', 'age': 21, 'city': 'Delhi'}\n"
          ]
        }
      ]
    },
    {
      "cell_type": "code",
      "source": [
        "#Question 22:- Write a code to add a new key-value pair \"country\": \"USA\" to the dictionary {'name': 'John', 'age': 25}\n",
        "\n",
        "d2= {'name': 'John', 'age': 25}\n",
        "d2[\"country\"] = 'USA'"
      ],
      "metadata": {
        "colab": {
          "base_uri": "https://localhost:8080/"
        },
        "id": "bmRX6Rne3szp",
        "outputId": "f45ce9fa-88e3-4d55-af84-8adae7403356"
      },
      "execution_count": null,
      "outputs": [
        {
          "output_type": "stream",
          "name": "stdout",
          "text": [
            "{'name': 'John', 'age': 25, 'country': 'USA'}\n"
          ]
        }
      ]
    },
    {
      "cell_type": "code",
      "source": [
        "#Question 23:-3. Write a code to access the value associated with the key \"name\" in the dictionary {'name': 'Alice', 'age': 30}\n",
        "\n",
        "d3={'name': 'Alice', 'age': 30}\n",
        "print(d3['name'])"
      ],
      "metadata": {
        "colab": {
          "base_uri": "https://localhost:8080/"
        },
        "id": "VbJ631mG4aac",
        "outputId": "9ff51210-46b3-40f9-a996-d9bd83bc8fef"
      },
      "execution_count": null,
      "outputs": [
        {
          "output_type": "stream",
          "name": "stdout",
          "text": [
            "Alice\n"
          ]
        }
      ]
    },
    {
      "cell_type": "code",
      "source": [
        "#Question 24:-  Write a code to remove the key \"age\" from the dictionary {'name': 'Bob', 'age': 22, 'city': 'New York'}.\n",
        "\n",
        "d4= {'name': 'Bob', 'age': 22, 'city': 'New York'}\n",
        "d4.pop('age')\n",
        "print(d4)"
      ],
      "metadata": {
        "colab": {
          "base_uri": "https://localhost:8080/"
        },
        "id": "FzRODoWF4oTK",
        "outputId": "14b90e91-f6ea-4d8e-fc4b-abb3ae71aefc"
      },
      "execution_count": 35,
      "outputs": [
        {
          "output_type": "stream",
          "name": "stdout",
          "text": [
            "{'name': 'Bob', 'city': 'New York'}\n"
          ]
        }
      ]
    },
    {
      "cell_type": "code",
      "source": [
        "#Question 25:-Write a code to check if the key \"city\" exists in the dictionary {'name': 'Alice', 'city': 'Paris'}.\n",
        "\n",
        "d5={'name': 'Alice', 'city': 'Paris'}\n",
        "print(\"city\" in d5)"
      ],
      "metadata": {
        "colab": {
          "base_uri": "https://localhost:8080/"
        },
        "id": "4LfzvDkE5h0f",
        "outputId": "fe851f41-ca9b-4e30-b2da-1b4d0c91f577"
      },
      "execution_count": 36,
      "outputs": [
        {
          "output_type": "stream",
          "name": "stdout",
          "text": [
            "True\n"
          ]
        }
      ]
    },
    {
      "cell_type": "code",
      "source": [
        "#Question 26 :- Write a code to create a list, a tuple, and a dictionary, and print them all.\n",
        "\n",
        "l1=[1,2,3,4]\n",
        "tp1=(1,2,3,4)\n",
        "d1={\"name\":\"Avika\",\"age\":21,\"city\":\"Delhi\"}\n",
        "print(l1)\n",
        "print(tp1)\n",
        "print(d1)\n"
      ],
      "metadata": {
        "colab": {
          "base_uri": "https://localhost:8080/"
        },
        "id": "eA2C6JD456XF",
        "outputId": "6a7faa96-c006-4119-f0c5-84d0170d9a6d"
      },
      "execution_count": 37,
      "outputs": [
        {
          "output_type": "stream",
          "name": "stdout",
          "text": [
            "[1, 2, 3, 4]\n",
            "(1, 2, 3, 4)\n",
            "{'name': 'Avika', 'age': 21, 'city': 'Delhi'}\n"
          ]
        }
      ]
    },
    {
      "cell_type": "code",
      "source": [
        "#Question 27:- Write a code to create a list of 5 random numbers between 1 and 100, sort it in ascending order, and print the\n",
        "#result.(replaced)\n",
        "import random\n",
        "random_numbers = [random.randint(1, 100) for _ in range(5)]\n",
        "random_numbers.sort()\n",
        "print(random_numbers)"
      ],
      "metadata": {
        "colab": {
          "base_uri": "https://localhost:8080/"
        },
        "id": "LSPWk3Mc6aVu",
        "outputId": "cbca5b45-fc65-4293-919f-886b0acc0aed"
      },
      "execution_count": 39,
      "outputs": [
        {
          "output_type": "stream",
          "name": "stdout",
          "text": [
            "[1, 2, 54, 61, 66]\n"
          ]
        }
      ]
    },
    {
      "cell_type": "code",
      "source": [
        "#Question 28 :- Write a code to create a list with strings and print the element at the third index.\n",
        "\n",
        "l2=[\"apple\",\"mango\",\"kiwi\",\"banana\"]\n",
        "print(l2[3])"
      ],
      "metadata": {
        "id": "KR43Onf96-DT"
      },
      "execution_count": null,
      "outputs": []
    },
    {
      "cell_type": "code",
      "source": [
        "#Question 29 :- Write a code to combine two dictionaries into one and print the result.\n",
        "\n",
        "d5={'name': 'Alice', 'city': 'Paris'}\n",
        "d1={\"name\":\"Avika\",\"age\":21,\"city\":\"Delhi\"}\n",
        "print(d5|d1)\n",
        "\n"
      ],
      "metadata": {
        "colab": {
          "base_uri": "https://localhost:8080/"
        },
        "id": "6lvEdRFC7RlU",
        "outputId": "b18f273a-860d-4423-a53c-9d371b052739"
      },
      "execution_count": 43,
      "outputs": [
        {
          "output_type": "stream",
          "name": "stdout",
          "text": [
            "{'name': 'Avika', 'city': 'Delhi', 'age': 21}\n"
          ]
        }
      ]
    },
    {
      "cell_type": "code",
      "source": [
        "#Question 30:- Write a code to convert a list of strings into a set.\n",
        "\n",
        "list1=[4,3,5,4,7]\n",
        "print(set(list1))"
      ],
      "metadata": {
        "colab": {
          "base_uri": "https://localhost:8080/"
        },
        "id": "uqfyIbXX70NO",
        "outputId": "4710b40a-52be-4ee1-f6f4-4e923632a614"
      },
      "execution_count": 44,
      "outputs": [
        {
          "output_type": "stream",
          "name": "stdout",
          "text": [
            "{3, 4, 5, 7}\n"
          ]
        }
      ]
    }
  ]
}